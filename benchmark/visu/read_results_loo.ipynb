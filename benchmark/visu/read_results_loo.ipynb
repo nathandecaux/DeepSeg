{
 "cells": [
  {
   "cell_type": "code",
   "execution_count": 3,
   "metadata": {},
   "outputs": [
    {
     "name": "stdout",
     "output_type": "stream",
     "text": [
      "The autoreload extension is already loaded. To reload it, use:\n",
      "  %reload_ext autoreload\n"
     ]
    },
    {
     "name": "stderr",
     "output_type": "stream",
     "text": [
      "/home/nathan/miniconda3/envs/simclr/lib/python3.7/site-packages/ipykernel/ipkernel.py:287: DeprecationWarning: `should_run_async` will not call `transform_cell` automatically in the future. Please pass the result to `transformed_cell` argument and any exception that happen during thetransform in `preprocessing_exc_tuple` in IPython 7.17 and above.\n",
      "  and should_run_async(code)\n"
     ]
    },
    {
     "ename": "FileNotFoundError",
     "evalue": "[Errno 2] No such file or directory: '/home/nathan/DeepSeg/benchmark/results/results_loo_reco.json'",
     "output_type": "error",
     "traceback": [
      "\u001b[0;31m---------------------------------------------------------------------------\u001b[0m",
      "\u001b[0;31mFileNotFoundError\u001b[0m                         Traceback (most recent call last)",
      "\u001b[0;32m<ipython-input-3-5841ceead155>\u001b[0m in \u001b[0;36m<module>\u001b[0;34m\u001b[0m\n\u001b[1;32m     24\u001b[0m \u001b[0;32mfrom\u001b[0m \u001b[0mpredict\u001b[0m \u001b[0;32mimport\u001b[0m \u001b[0msave_preds\u001b[0m\u001b[0;34m\u001b[0m\u001b[0;34m\u001b[0m\u001b[0m\n\u001b[1;32m     25\u001b[0m \u001b[0;34m\u001b[0m\u001b[0m\n\u001b[0;32m---> 26\u001b[0;31m \u001b[0;32mwith\u001b[0m \u001b[0mopen\u001b[0m\u001b[0;34m(\u001b[0m\u001b[0;34mf'{dir}/results_loo_reco.json'\u001b[0m\u001b[0;34m,\u001b[0m\u001b[0;34m'r'\u001b[0m\u001b[0;34m)\u001b[0m \u001b[0;32mas\u001b[0m \u001b[0mf\u001b[0m\u001b[0;34m:\u001b[0m\u001b[0;34m\u001b[0m\u001b[0;34m\u001b[0m\u001b[0m\n\u001b[0m\u001b[1;32m     27\u001b[0m     \u001b[0mmtl\u001b[0m\u001b[0;34m=\u001b[0m\u001b[0mjson\u001b[0m\u001b[0;34m.\u001b[0m\u001b[0mload\u001b[0m\u001b[0;34m(\u001b[0m\u001b[0mf\u001b[0m\u001b[0;34m)\u001b[0m\u001b[0;34m[\u001b[0m\u001b[0;34m'PLEX'\u001b[0m\u001b[0;34m]\u001b[0m\u001b[0;34m\u001b[0m\u001b[0;34m\u001b[0m\u001b[0m\n\u001b[1;32m     28\u001b[0m \u001b[0;34m\u001b[0m\u001b[0m\n",
      "\u001b[0;31mFileNotFoundError\u001b[0m: [Errno 2] No such file or directory: '/home/nathan/DeepSeg/benchmark/results/results_loo_reco.json'"
     ]
    }
   ],
   "source": [
    "import pandas as pd\n",
    "import warnings\n",
    "import matplotlib.cbook\n",
    "warnings.filterwarnings(\"ignore\",category=matplotlib.cbook.mplDeprecation)\n",
    "import json\n",
    "import numpy as np\n",
    "import sys\n",
    "import os\n",
    "import pytorch_lightning as pl\n",
    "from pytorch_lightning.loggers import TensorBoardLogger\n",
    "%load_ext autoreload\n",
    "%autoreload 2\n",
    "dir= '/home/nathan/DeepSeg/benchmark/results'\n",
    "sys.path.append(dir)\n",
    "sys.path.append(dir.replace('/benchmark',''))\n",
    "import gc\n",
    "import torch\n",
    "def wipe_memory():\n",
    "    gc.collect()\n",
    "    torch.cuda.empty_cache()\n",
    "from models.MTL import MTL\n",
    "from data.PlexDataModule import ACDCDataModule\n",
    "\n",
    "from predict import save_preds\n",
    "\n",
    "with open(f'{dir}/results_loo.json','r') as f:\n",
    "    mtl=json.load(f)['PLEX']\n",
    "\n",
    "for n in mtl.keys():\n",
    "    for model in ['UNet,MTL-sup']:\n",
    "        mtl[n][model][0].update(save_preds(0,'PLEX',n,model,exp[0],dice_only=True))\n"
   ]
  },
  {
   "cell_type": "code",
   "execution_count": 5,
   "metadata": {},
   "outputs": [
    {
     "name": "stderr",
     "output_type": "stream",
     "text": [
      "/home/nathan/miniconda3/envs/simclr/lib/python3.7/site-packages/ipykernel/ipkernel.py:287: DeprecationWarning: `should_run_async` will not call `transform_cell` automatically in the future. Please pass the result to `transformed_cell` argument and any exception that happen during thetransform in `preprocessing_exc_tuple` in IPython 7.17 and above.\n",
      "  and should_run_async(code)\n"
     ]
    }
   ],
   "source": [
    "for n in mtl.keys():\n",
    "    for model,exp in mtl[n].items():\n",
    "        mtl[n][model]=mtl[n][model]['lab_1']"
   ]
  },
  {
   "cell_type": "code",
   "execution_count": 58,
   "metadata": {},
   "outputs": [
    {
     "name": "stdout",
     "output_type": "stream",
     "text": [
      "{'UNet': {1: 61.3749593821, 10: 86.5078729412, 11: 86.6709426972, 2: 71.8871979206, 3: 76.2615603284, 4: 81.2551144335, 5: 84.0679049692, 6: 81.2300610984, 7: 83.919351074, 8: 87.3327153215, 9: 86.0108662997}, 'MTL-sup': {1: 60.4988974013, 10: 86.9396432267, 11: nan, 2: 81.0076083706, 3: 80.1836759889, 4: 83.8905831413, 5: 84.7838619781, 6: 84.5114206306, 7: 85.9194713286, 8: 87.067196129, 9: 86.9054704094}, 'MTL-SSL-reco': {'1': 59.21285068957377, '2': 76.56444069021721, '3': 79.66047046318889, '4': 75.91852167384644, '5': 84.43179012170884}}\n"
     ]
    },
    {
     "name": "stderr",
     "output_type": "stream",
     "text": [
      "/home/nathan/miniconda3/envs/simclr/lib/python3.7/site-packages/ipykernel/ipkernel.py:287: DeprecationWarning: `should_run_async` will not call `transform_cell` automatically in the future. Please pass the result to `transformed_cell` argument and any exception that happen during thetransform in `preprocessing_exc_tuple` in IPython 7.17 and above.\n",
      "  and should_run_async(code)\n"
     ]
    }
   ],
   "source": [
    "truc=pd.DataFrame(mtl).transpose()\n",
    "truc\n",
    "truc2=pd.read_json('results_loo_filtered.json')\n",
    "truc2\n",
    "truc2=truc2.to_dict()\n",
    "truc3=dict()\n",
    "for key,val in truc2.values():\n",
    "    for n,value in val.items():\n",
    "        truc3[key][str(n)]=value\n",
    "truc3.update(truc.to_dict())\n",
    "print(truc3)\n",
    "# truc3=truc.append(truc2)\n"
   ]
  },
  {
   "cell_type": "code",
   "execution_count": null,
   "metadata": {},
   "outputs": [],
   "source": [
    "import pandas as pd\n",
    "import warnings\n",
    "import matplotlib.cbook\n",
    "warnings.filterwarnings(\"ignore\",category=matplotlib.cbook.mplDeprecation)\n",
    "import json\n",
    "import numpy as np\n",
    "import sys\n",
    "import os\n",
    "import pytorch_lightning as pl\n",
    "from pytorch_lightning.loggers import TensorBoardLogger\n",
    "\n",
    "with open(f'{dir}/results/results_loo.json','r') as f:\n",
    "    mtl=json.load(f)['PLEX']\n",
    "\n"
   ]
  }
 ],
 "metadata": {
  "interpreter": {
   "hash": "323b9da1ca15bc308d2d6c651cf4752efb8dd1e2bb46b89848ed47335056abfd"
  },
  "kernelspec": {
   "display_name": "Python 3.7.10 64-bit ('simclr': conda)",
   "name": "python3"
  },
  "language_info": {
   "codemirror_mode": {
    "name": "ipython",
    "version": 3
   },
   "file_extension": ".py",
   "mimetype": "text/x-python",
   "name": "python",
   "nbconvert_exporter": "python",
   "pygments_lexer": "ipython3",
   "version": "3.7.10"
  },
  "orig_nbformat": 4
 },
 "nbformat": 4,
 "nbformat_minor": 2
}
