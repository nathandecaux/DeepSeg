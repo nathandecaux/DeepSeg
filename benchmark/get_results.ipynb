{
 "cells": [
  {
   "cell_type": "code",
   "execution_count": 2,
   "metadata": {},
   "outputs": [
    {
     "name": "stdout",
     "output_type": "stream",
     "text": [
      "{'UNet': {0: 23.43871603, 1: 35.84800255, 2: 48.82285235, 3: 52.60238473, 4: 46.94737384, 5: 47.06875146, 6: 52.96760789, 7: 65.76747064, 8: 51.99439153, 9: 73.78497774}, 'MTL-recon-SSL-recon_u-cons-guided': {0: 31.76730569, 1: 56.19030319, 2: 66.84421704, 3: 62.79000781, 4: 59.0740952, 5: 65.47999889, 6: 60.80037728, 7: 69.21636023, 8: 55.06117726, 9: 69.34026701}, 'MTL-recon-SSL-recon_u-final': {0: 19.48911522, 1: 42.72366251, 2: 52.26756625, 3: 57.99541496, 4: 54.33137793, 5: 57.60147033, 6: 59.12298571, 7: 69.48612944, 8: 53.1198696, 9: 74.28378655}, 'MTL-SSL-cons-final': {0: 28.07267444, 1: 50.75264176, 2: 65.38896581, 3: 66.32581175, 4: 42.11737123, 5: 65.40005652, 6: 66.55297983, 7: 73.84716224, 8: 62.76122833, 9: 70.76554289}}\n"
     ]
    }
   ],
   "source": [
    "import pandas as pd\n",
    "import json\n",
    "import numpy as np\n",
    "import sys\n",
    "import os\n",
    "import torch\n",
    "\n",
    "dir= os.getcwd()\n",
    "sys.path.append(dir)\n",
    "sys.path.append(dir.replace('/benchmark',''))\n",
    "from predict import save_preds\n",
    "\n",
    "truc=pd.read_excel(f'{dir}/deltoid.xlsx').to_dict()\n",
    "del truc['Unnamed: 0']\n",
    "print(truc)\n",
    "deltoid=dict()\n",
    "for mod in truc.keys():\n",
    "    deltoid[mod]=[]\n",
    "    for n,v in truc[mod].items():\n",
    "        deltoid[mod].append({'subjects':str(n+1),'dice':v,'label':'deltoid'})\n",
    "\n",
    "with open(f'{dir}/old_scripts/results/results_multi_lab.json','r') as f:\n",
    "    df=json.load(f)\n",
    "models=['UNet','MTL-recon-SSL-recon_u-cons-guided','MTL-recon-SSL-recon_u-final','MTL-SSL-cons-final']\n",
    "labels=['infraspinatus','subscapularis','supraspinatus']\n",
    "plex=df\n",
    "mean_plex=dict()\n",
    "std_res=dict()\n",
    "for lab in labels:\n",
    "    for n in range(1,11):#enumerate(list(plex.keys())):\n",
    "        n=str(n)\n",
    "        for model in models:#plex[n].keys():\n",
    "            if model not in mean_plex.keys():\n",
    "                mean_plex[model]=[]\n",
    "                std_res[model]=[]\n",
    "            mean_exp=[]\n",
    "            for exp in plex[lab][n][model]:\n",
    "                labs=[]\n",
    "                # for k,v in exp.items():\n",
    "                #     i#if 'lab' in k and k!='lab_0':\n",
    "                #         labs.append(v)\n",
    "                if exp['lab_1']>2:\n",
    "                    mean_exp.append(exp['lab_1'])\n",
    "                # print(labs)\n",
    "                # mean_exp.append(np.mean(labs))\n",
    "            # if model in mean_plex[n].keys():\n",
    "            #     mean_plex[n][model]=[]\n",
    "            #     std_res[n][model]=[]\n",
    "            mean_plex[model].append({'subjects':n,'dice':np.mean(mean_exp),'label':lab})\n",
    "            std_res[model].append({'subjects':n,'dice':np.std(mean_exp),'label':lab})\n",
    "\n",
    "for mod in deltoid.keys():\n",
    "    for v in deltoid[mod]:\n",
    "        mean_plex[mod].append(v)\n",
    "\n",
    "for i in mean_plex.keys():\n",
    "    mean_plex[i]=pd.DataFrame(mean_plex[i]).pivot(index='subjects',columns='label',values='dice')\n",
    "pd.concat(mean_plex.values(),axis=1,keys=mean_plex.keys()).to_excel('truc.xlsx')\n",
    "# pd.DataFrame(mean_plex).pivot(index='subjects',columns='label',values='dice')"
   ]
  },
  {
   "cell_type": "code",
   "execution_count": 19,
   "metadata": {},
   "outputs": [
    {
     "data": {
      "text/plain": [
       "{'UNet': [{'subjects': 0, 'dice': 23.43871603, 'label': 'deltoid'},\n",
       "  {'subjects': 1, 'dice': 35.84800255, 'label': 'deltoid'},\n",
       "  {'subjects': 2, 'dice': 48.82285235, 'label': 'deltoid'},\n",
       "  {'subjects': 3, 'dice': 52.60238473, 'label': 'deltoid'},\n",
       "  {'subjects': 4, 'dice': 46.94737384, 'label': 'deltoid'},\n",
       "  {'subjects': 5, 'dice': 47.06875146, 'label': 'deltoid'},\n",
       "  {'subjects': 6, 'dice': 52.96760789, 'label': 'deltoid'},\n",
       "  {'subjects': 7, 'dice': 65.76747064, 'label': 'deltoid'},\n",
       "  {'subjects': 8, 'dice': 51.99439153, 'label': 'deltoid'},\n",
       "  {'subjects': 9, 'dice': 73.78497774, 'label': 'deltoid'}],\n",
       " 'MTL-recon-SSL-recon_u-cons-guided': [{'subjects': 0,\n",
       "   'dice': 31.76730569,\n",
       "   'label': 'deltoid'},\n",
       "  {'subjects': 1, 'dice': 56.19030319, 'label': 'deltoid'},\n",
       "  {'subjects': 2, 'dice': 66.84421704, 'label': 'deltoid'},\n",
       "  {'subjects': 3, 'dice': 62.79000781, 'label': 'deltoid'},\n",
       "  {'subjects': 4, 'dice': 59.0740952, 'label': 'deltoid'},\n",
       "  {'subjects': 5, 'dice': 65.47999889, 'label': 'deltoid'},\n",
       "  {'subjects': 6, 'dice': 60.80037728, 'label': 'deltoid'},\n",
       "  {'subjects': 7, 'dice': 69.21636023, 'label': 'deltoid'},\n",
       "  {'subjects': 8, 'dice': 55.06117726, 'label': 'deltoid'},\n",
       "  {'subjects': 9, 'dice': 69.34026701, 'label': 'deltoid'}],\n",
       " 'MTL-recon-SSL-recon_u-final': [{'subjects': 0,\n",
       "   'dice': 19.48911522,\n",
       "   'label': 'deltoid'},\n",
       "  {'subjects': 1, 'dice': 42.72366251, 'label': 'deltoid'},\n",
       "  {'subjects': 2, 'dice': 52.26756625, 'label': 'deltoid'},\n",
       "  {'subjects': 3, 'dice': 57.99541496, 'label': 'deltoid'},\n",
       "  {'subjects': 4, 'dice': 54.33137793, 'label': 'deltoid'},\n",
       "  {'subjects': 5, 'dice': 57.60147033, 'label': 'deltoid'},\n",
       "  {'subjects': 6, 'dice': 59.12298571, 'label': 'deltoid'},\n",
       "  {'subjects': 7, 'dice': 69.48612944, 'label': 'deltoid'},\n",
       "  {'subjects': 8, 'dice': 53.1198696, 'label': 'deltoid'},\n",
       "  {'subjects': 9, 'dice': 74.28378655, 'label': 'deltoid'}],\n",
       " 'MTL-SSL-cons-final': [{'subjects': 0,\n",
       "   'dice': 28.07267444,\n",
       "   'label': 'deltoid'},\n",
       "  {'subjects': 1, 'dice': 50.75264176, 'label': 'deltoid'},\n",
       "  {'subjects': 2, 'dice': 65.38896581, 'label': 'deltoid'},\n",
       "  {'subjects': 3, 'dice': 66.32581175, 'label': 'deltoid'},\n",
       "  {'subjects': 4, 'dice': 42.11737123, 'label': 'deltoid'},\n",
       "  {'subjects': 5, 'dice': 65.40005652, 'label': 'deltoid'},\n",
       "  {'subjects': 6, 'dice': 66.55297983, 'label': 'deltoid'},\n",
       "  {'subjects': 7, 'dice': 73.84716224, 'label': 'deltoid'},\n",
       "  {'subjects': 8, 'dice': 62.76122833, 'label': 'deltoid'},\n",
       "  {'subjects': 9, 'dice': 70.76554289, 'label': 'deltoid'}]}"
      ]
     },
     "execution_count": 19,
     "metadata": {},
     "output_type": "execute_result"
    }
   ],
   "source": []
  },
  {
   "cell_type": "code",
   "execution_count": 4,
   "metadata": {},
   "outputs": [
    {
     "name": "stdout",
     "output_type": "stream",
     "text": [
      "{'1': {'UNet': 23.43871603236257}, '2': {'UNet': 35.84800255252939}, '3': {'UNet': 48.822852351583}, '4': {'UNet': 52.60238472852943}, '5': {'UNet': 46.94737384236506}, '6': {'UNet': 47.068751455621424}, '7': {'UNet': 52.96760788622377}, '8': {'UNet': 65.76747063539116}, '9': {'UNet': 51.99439152732542}, '10': {'UNet': 73.78497773705874}, '11': {'UNet': 71.69677152049567}}\n"
     ]
    }
   ],
   "source": [
    "import matplotlib.pyplot as plt\n",
    "print(mean_plex)\n",
    "mean_plex=pd.DataFrame({'UNet':mean_plex})\n",
    "#Sort index as integers\n",
    "#Sort index as integers\n",
    "mean_plex.sort_index(inplace=True)\n",
    "\n"
   ]
  },
  {
   "cell_type": "code",
   "execution_count": 38,
   "metadata": {},
   "outputs": [
    {
     "name": "stderr",
     "output_type": "stream",
     "text": [
      "/home/nathan/miniconda3/envs/simclr/lib/python3.7/site-packages/ipykernel/ipkernel.py:287: DeprecationWarning: `should_run_async` will not call `transform_cell` automatically in the future. Please pass the result to `transformed_cell` argument and any exception that happen during thetransform in `preprocessing_exc_tuple` in IPython 7.17 and above.\n",
      "  and should_run_async(code)\n"
     ]
    },
    {
     "data": {
      "text/plain": [
       "<AxesSubplot:>"
      ]
     },
     "execution_count": 38,
     "metadata": {},
     "output_type": "execute_result"
    },
    {
     "data": {
      "image/png": "[encoded data removed]",
      "text/plain": [
       "<Figure size 432x288 with 1 Axes>"
      ]
     },
     "metadata": {
      "needs_background": "light"
     },
     "output_type": "display_data"
    }
   ],
   "source": [
    "mean_plex.sort_index().plot()"
   ]
  },
  {
   "cell_type": "code",
   "execution_count": null,
   "metadata": {},
   "outputs": [],
   "source": []
  }
 ],
 "metadata": {
  "interpreter": {
   "hash": "323b9da1ca15bc308d2d6c651cf4752efb8dd1e2bb46b89848ed47335056abfd"
  },
  "kernelspec": {
   "display_name": "Python 3.7.10 64-bit ('simclr': conda)",
   "name": "python3"
  },
  "language_info": {
   "codemirror_mode": {
    "name": "ipython",
    "version": 3
   },
   "file_extension": ".py",
   "mimetype": "text/x-python",
   "name": "python",
   "nbconvert_exporter": "python",
   "pygments_lexer": "ipython3",
   "version": "3.8.12"
  },
  "orig_nbformat": 4
 },
 "nbformat": 4,
 "nbformat_minor": 2
}
